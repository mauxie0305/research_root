{
 "cells": [
  {
   "cell_type": "markdown",
   "id": "351c55a8",
   "metadata": {},
   "source": [
    "# Import Package"
   ]
  },
  {
   "cell_type": "code",
   "execution_count": null,
   "id": "2e7eddbe",
   "metadata": {},
   "outputs": [],
   "source": [
    "import numpy as np\n",
    "import matplotlib.pyplot as plt\n",
    "import skimage\n",
    "import cv2\n",
    "from skimage import io, measure, draw\n",
    "from PIL import Image\n",
    "import argparse\n",
    "import json                              \n",
    "from skimage import measure                        \n",
    "from shapely.geometry import Polygon, MultiPolygon \n",
    "import os"
   ]
  },
  {
   "cell_type": "markdown",
   "id": "1e2c1724",
   "metadata": {},
   "source": [
    "# Crop Image "
   ]
  },
  {
   "cell_type": "code",
   "execution_count": null,
   "id": "7d4a61a2",
   "metadata": {},
   "outputs": [],
   "source": [
    "def crop(img, width, height):\n",
    "    w_1 = int(width/2) -1500\n",
    "    w_2 = int(width/2) + 1500\n",
    "    h_1 = int(height/2) -1000\n",
    "    h_2 = int(height/2) + 2000\n",
    "    img2 = img.crop((w_1,h_1, w_2, h_2))\n",
    "    \n",
    "    return img2"
   ]
  },
  {
   "cell_type": "markdown",
   "id": "1b58380a",
   "metadata": {},
   "source": [
    "# Mask"
   ]
  },
  {
   "cell_type": "code",
   "execution_count": null,
   "id": "a8c59cbf",
   "metadata": {},
   "outputs": [],
   "source": [
    "def mask(img):\n",
    "    image = np.array(img) \n",
    "    mask = cv2.circle(image, (1500, 0), 850, (0,0,0), -1) \n",
    "    return mask"
   ]
  },
  {
   "cell_type": "markdown",
   "id": "d40949fc",
   "metadata": {},
   "source": [
    "# Image Processing"
   ]
  },
  {
   "cell_type": "code",
   "execution_count": null,
   "id": "c42359dc",
   "metadata": {},
   "outputs": [],
   "source": [
    "def image_matting(img):\n",
    "    processed = img.copy()\n",
    "\n",
    "    processed = processed.convert('HSV')\n",
    "\n",
    "    newImage = []\n",
    "    for item in processed.getdata():\n",
    "        if item[:3] < (45, 25, 30) and item[:3] > (15, 20, 30) :  # 下次從這看 2022/07/26\n",
    "            newImage.append(item)\n",
    "        else:\n",
    "            newImage.append((0, 0, 0))\n",
    "\n",
    "    processed.putdata(newImage)\n",
    "    processed = processed.convert(mode=\"RGB\")\n",
    "    \n",
    "    open_cv_image = np.array(processed) \n",
    "    \n",
    "    # Convert RGB to BGR \n",
    "    open_cv_image = open_cv_image[:, :, ::-1].copy() \n",
    "    result = cv2.cvtColor(open_cv_image, cv2.COLOR_BGR2GRAY)\n",
    "    \n",
    "    (thresh, result) = cv2.threshold(result, 128, 255, cv2.THRESH_BINARY | cv2.THRESH_OTSU)\n",
    "    return result "
   ]
  },
  {
   "cell_type": "markdown",
   "id": "6be4f4b1",
   "metadata": {},
   "source": [
    "# Crop and process and move to the final place \n",
    "### root(input_dir) is for folders that only root\n",
    "### net(input_dir) is for folders that root including net"
   ]
  },
  {
   "cell_type": "code",
   "execution_count": null,
   "id": "284c80e4",
   "metadata": {},
   "outputs": [],
   "source": [
    "def net(input_dir):\n",
    "    for path, dirs, files in os.walk(input_dir):\n",
    "        for file in files:\n",
    "            if file.endswith('.JPG'):\n",
    "                # Output dictionary\n",
    "                output_dir = os.path.join(path,'label')\n",
    "                if not os.path.exists(output_dir):\n",
    "                    os.makedirs(output_dir)\n",
    "                output_path = os.path.join(output_dir, file)\n",
    "                \n",
    "                # Cropping dictionary\n",
    "                crop_dir = os.path.join(path, 'crop')\n",
    "                if not os.path.exists(crop_dir):\n",
    "                    os.makedirs(crop_dir)\n",
    "                crop_path = os.path.join(crop_dir, file)\n",
    "                \n",
    "                # Input image\n",
    "                img_path = os.path.join(path, file)\n",
    "                img = Image.open(img_path)\n",
    "                w = img.width; h = img.height\n",
    "                img_crop = crop(img,w,h)\n",
    "                \n",
    "                # Saving cropping image\n",
    "                Image.Image.save(img_crop,crop_path)\n",
    "                \n",
    "                #Do image processing and save\n",
    "                result = image_matting(img_crop)\n",
    "                result = mask(result)\n",
    "                cv2.imwrite(output_path,result)\n",
    "                \n",
    "    print('done')\n"
   ]
  },
  {
   "cell_type": "code",
   "execution_count": null,
   "id": "bfbe1f3f",
   "metadata": {},
   "outputs": [],
   "source": [
    "def root(input_dir):\n",
    "    for path, dirs, files in os.walk(input_dir):\n",
    "        for file in files:\n",
    "            if file.endswith('.JPG'):\n",
    "                # Output dictionary\n",
    "                output_dir = os.path.join(path,'label')\n",
    "                if not os.path.exists(output_dir):\n",
    "                    os.makedirs(output_dir)\n",
    "                output_path = os.path.join(output_dir, file)\n",
    "                \n",
    "                # Cropping dictionary\n",
    "                crop_dir = os.path.join(path, 'crop')\n",
    "                if not os.path.exists(crop_dir):\n",
    "                    os.makedirs(crop_dir)\n",
    "                crop_path = os.path.join(crop_dir, file)\n",
    "                \n",
    "                # Input image\n",
    "                img_path = os.path.join(path, file)\n",
    "                img = Image.open(img_path)\n",
    "                w = img.width; h = img.height\n",
    "                img_crop = crop(img,w,h)\n",
    "                \n",
    "                # Saving cropping image\n",
    "                Image.Image.save(img_crop,crop_path)\n",
    "                \n",
    "                #Do image processing and save\n",
    "                result = image_matting(img_crop)\n",
    "                cv2.imwrite(output_path, result)\n",
    "    print('done')"
   ]
  },
  {
   "cell_type": "code",
   "execution_count": null,
   "id": "0716ea50",
   "metadata": {},
   "outputs": [],
   "source": [
    "input_dirs = [\n",
    "    \"CK1-1\"\n",
    "]"
   ]
  },
  {
   "cell_type": "code",
   "execution_count": null,
   "id": "5a8b1288",
   "metadata": {},
   "outputs": [],
   "source": [
    "root(input_dirs[0])"
   ]
  }
 ],
 "metadata": {
  "kernelspec": {
   "display_name": "Python 3.10.2 ('.venv': venv)",
   "language": "python",
   "name": "python3"
  },
  "language_info": {
   "codemirror_mode": {
    "name": "ipython",
    "version": 3
   },
   "file_extension": ".py",
   "mimetype": "text/x-python",
   "name": "python",
   "nbconvert_exporter": "python",
   "pygments_lexer": "ipython3",
   "version": "3.10.2"
  },
  "vscode": {
   "interpreter": {
    "hash": "fed2dd2fca4a72827ca0ef5c04e99794e382ca2feb479b764bb20056a8b4bab3"
   }
  }
 },
 "nbformat": 4,
 "nbformat_minor": 5
}

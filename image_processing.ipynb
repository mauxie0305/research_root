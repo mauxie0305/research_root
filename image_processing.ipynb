{
 "cells": [
  {
   "cell_type": "markdown",
   "id": "351c55a8",
   "metadata": {},
   "source": [
    "# Import Package"
   ]
  },
  {
   "cell_type": "code",
   "execution_count": 5,
   "id": "2e7eddbe",
   "metadata": {},
   "outputs": [],
   "source": [
    "import numpy as np\n",
    "import matplotlib.pyplot as plt\n",
    "import skimage\n",
    "import cv2\n",
    "from skimage import io, measure, draw\n",
    "from PIL import Image\n",
    "import argparse\n",
    "import json                              \n",
    "from skimage import measure                        \n",
    "from shapely.geometry import Polygon, MultiPolygon \n",
    "import os"
   ]
  },
  {
   "cell_type": "markdown",
   "id": "1e2c1724",
   "metadata": {},
   "source": [
    "# Crop Image "
   ]
  },
  {
   "cell_type": "code",
   "execution_count": 7,
   "id": "7d4a61a2",
   "metadata": {},
   "outputs": [],
   "source": [
    "def crop(img, width, height):\n",
    "    w_1 = int(width/2) -1500\n",
    "    w_2 = int(width/2) + 1500\n",
    "    h_1 = int(height/2) -1000\n",
    "    h_2 = int(height/2) + 2000\n",
    "    img2 = img.crop((w_1,h_1, w_2, h_2))\n",
    "    \n",
    "    return img2"
   ]
  },
  {
   "cell_type": "markdown",
   "id": "1b58380a",
   "metadata": {},
   "source": [
    "# Mask"
   ]
  },
  {
   "cell_type": "code",
   "execution_count": 3,
   "id": "a8c59cbf",
   "metadata": {},
   "outputs": [],
   "source": [
    "def mask(img):\n",
    "    image = np.array(img) \n",
    "    mask = cv2.circle(image, (1500, 0), 850, (0,0,0), -1) \n",
    "    return mask"
   ]
  },
  {
   "cell_type": "markdown",
   "id": "d40949fc",
   "metadata": {},
   "source": [
    "# Image Processing"
   ]
  },
  {
   "cell_type": "code",
   "execution_count": 9,
   "id": "c42359dc",
   "metadata": {},
   "outputs": [],
   "source": [
    "def image_matting(img):\n",
    "    processed = img.copy()\n",
    "\n",
    "    processed = processed.convert('HSV')\n",
    "\n",
    "    newImage = []\n",
    "    for item in processed.getdata():\n",
    "        if item[:3] < (45, 25, 30) and item[:3] > (15, 20, 30) :\n",
    "            newImage.append(item)\n",
    "        else:\n",
    "            newImage.append((0, 0, 0))\n",
    "\n",
    "    processed.putdata(newImage)\n",
    "    processed = processed.convert(mode=\"RGB\")\n",
    "    \n",
    "    open_cv_image = np.array(processed) \n",
    "    \n",
    "    # Convert RGB to BGR \n",
    "    open_cv_image = open_cv_image[:, :, ::-1].copy() \n",
    "    result = cv2.cvtColor(open_cv_image, cv2.COLOR_BGR2GRAY)\n",
    "    \n",
    "    (thresh, result) = cv2.threshold(result, 128, 255, cv2.THRESH_BINARY | cv2.THRESH_OTSU)\n",
    "    return result "
   ]
  },
  {
   "cell_type": "markdown",
   "id": "6be4f4b1",
   "metadata": {},
   "source": [
    "# Crop and process and move to the final place "
   ]
  },
  {
   "cell_type": "code",
   "execution_count": 40,
   "id": "284c80e4",
   "metadata": {},
   "outputs": [],
   "source": [
    "def net(input_dir):\n",
    "    for root, dirs, files in os.walk(input_dir):\n",
    "        for file in files:\n",
    "            if file.endswith('.JPG'):\n",
    "                # Output dictionary\n",
    "                output_dir = os.path.join(root,'label')\n",
    "                if not os.path.exists(output_dir):\n",
    "                    os.makedirs(output_dir)\n",
    "                output_path = os.path.join(output_dir, file)\n",
    "                \n",
    "                # Cropping dictionary\n",
    "                crop_dir = os.path.join(root, 'crop')\n",
    "                if not os.path.exists(crop_dir):\n",
    "                    os.makedirs(crop_dir)\n",
    "                crop_path = os.path.join(crop_dir, file)\n",
    "                \n",
    "                # Input image\n",
    "                img_path = os.path.join(root, file)\n",
    "                img = Image.open(img_path)\n",
    "                w = img.width; h = img.height\n",
    "                img2 = crop(img,w,h)\n",
    "                \n",
    "                # Saving cropping image\n",
    "                Image.Image.save(img2,crop_path)\n",
    "                \n",
    "                #Do image processing and save\n",
    "                result = image_matting(img2)\n",
    "                result = mask(result)\n",
    "                cv2.imwrite(output_path,result)\n",
    "                \n",
    "    print('done')\n"
   ]
  },
  {
   "cell_type": "code",
   "execution_count": 10,
   "id": "bfbe1f3f",
   "metadata": {},
   "outputs": [],
   "source": [
    "def root(input_dir):\n",
    "    for root, dirs, files in os.walk(input_dir):\n",
    "        for file in files:\n",
    "            if file.endswith('.JPG'):\n",
    "                # Output dictionary\n",
    "                output_dir = os.path.join(root,'label')\n",
    "                if not os.path.exists(output_dir):\n",
    "                    os.makedirs(output_dir)\n",
    "                output_path = os.path.join(output_dir, file)\n",
    "                \n",
    "                # Cropping dictionary\n",
    "                crop_dir = os.path.join(root, 'crop')\n",
    "                if not os.path.exists(crop_dir):\n",
    "                    os.makedirs(crop_dir)\n",
    "                crop_path = os.path.join(crop_dir, file)\n",
    "                \n",
    "                # Input image\n",
    "                img_path = os.path.join(root, file)\n",
    "                img = Image.open(img_path)\n",
    "                w = img.width; h = img.height\n",
    "                img2 = crop(img,w,h)\n",
    "                \n",
    "                # Saving cropping image\n",
    "                Image.Image.save(img2,crop_path)\n",
    "                \n",
    "                #Do image processing and save\n",
    "                result = image_matting(img2)\n",
    "                cv2.imwrite(output_path,result)\n",
    "    print('done')"
   ]
  },
  {
   "cell_type": "code",
   "execution_count": 11,
   "id": "0716ea50",
   "metadata": {},
   "outputs": [],
   "source": [
    "input_dirs = [\n",
    "    \"CK1-1\"\n",
    "]\n"
   ]
  },
  {
   "cell_type": "code",
   "execution_count": 12,
   "id": "5a8b1288",
   "metadata": {},
   "outputs": [
    {
     "ename": "KeyboardInterrupt",
     "evalue": "",
     "output_type": "error",
     "traceback": [
      "\u001b[1;31m---------------------------------------------------------------------------\u001b[0m",
      "\u001b[1;31mKeyboardInterrupt\u001b[0m                         Traceback (most recent call last)",
      "\u001b[1;32m~\\AppData\\Local\\Temp/ipykernel_8104/983331078.py\u001b[0m in \u001b[0;36m<module>\u001b[1;34m\u001b[0m\n\u001b[1;32m----> 1\u001b[1;33m \u001b[0mroot\u001b[0m\u001b[1;33m(\u001b[0m\u001b[0minput_dirs\u001b[0m\u001b[1;33m[\u001b[0m\u001b[1;36m0\u001b[0m\u001b[1;33m]\u001b[0m\u001b[1;33m)\u001b[0m\u001b[1;33m\u001b[0m\u001b[1;33m\u001b[0m\u001b[0m\n\u001b[0m",
      "\u001b[1;32m~\\AppData\\Local\\Temp/ipykernel_8104/460851389.py\u001b[0m in \u001b[0;36mroot\u001b[1;34m(input_dir)\u001b[0m\n\u001b[0;32m     25\u001b[0m \u001b[1;33m\u001b[0m\u001b[0m\n\u001b[0;32m     26\u001b[0m                 \u001b[1;31m#Do image processing and save\u001b[0m\u001b[1;33m\u001b[0m\u001b[1;33m\u001b[0m\u001b[1;33m\u001b[0m\u001b[0m\n\u001b[1;32m---> 27\u001b[1;33m                 \u001b[0mresult\u001b[0m \u001b[1;33m=\u001b[0m \u001b[0mimage_matting\u001b[0m\u001b[1;33m(\u001b[0m\u001b[0mimg2\u001b[0m\u001b[1;33m)\u001b[0m\u001b[1;33m\u001b[0m\u001b[1;33m\u001b[0m\u001b[0m\n\u001b[0m\u001b[0;32m     28\u001b[0m                 \u001b[0mcv2\u001b[0m\u001b[1;33m.\u001b[0m\u001b[0mimwrite\u001b[0m\u001b[1;33m(\u001b[0m\u001b[0moutput_path\u001b[0m\u001b[1;33m,\u001b[0m\u001b[0mresult\u001b[0m\u001b[1;33m)\u001b[0m\u001b[1;33m\u001b[0m\u001b[1;33m\u001b[0m\u001b[0m\n\u001b[0;32m     29\u001b[0m     \u001b[0mprint\u001b[0m\u001b[1;33m(\u001b[0m\u001b[1;34m'done'\u001b[0m\u001b[1;33m)\u001b[0m\u001b[1;33m\u001b[0m\u001b[1;33m\u001b[0m\u001b[0m\n",
      "\u001b[1;32m~\\AppData\\Local\\Temp/ipykernel_8104/2636669167.py\u001b[0m in \u001b[0;36mimage_matting\u001b[1;34m(img)\u001b[0m\n\u001b[0;32m     11\u001b[0m             \u001b[0mnewImage\u001b[0m\u001b[1;33m.\u001b[0m\u001b[0mappend\u001b[0m\u001b[1;33m(\u001b[0m\u001b[1;33m(\u001b[0m\u001b[1;36m0\u001b[0m\u001b[1;33m,\u001b[0m \u001b[1;36m0\u001b[0m\u001b[1;33m,\u001b[0m \u001b[1;36m0\u001b[0m\u001b[1;33m)\u001b[0m\u001b[1;33m)\u001b[0m\u001b[1;33m\u001b[0m\u001b[1;33m\u001b[0m\u001b[0m\n\u001b[0;32m     12\u001b[0m \u001b[1;33m\u001b[0m\u001b[0m\n\u001b[1;32m---> 13\u001b[1;33m     \u001b[0mprocessed\u001b[0m\u001b[1;33m.\u001b[0m\u001b[0mputdata\u001b[0m\u001b[1;33m(\u001b[0m\u001b[0mnewImage\u001b[0m\u001b[1;33m)\u001b[0m\u001b[1;33m\u001b[0m\u001b[1;33m\u001b[0m\u001b[0m\n\u001b[0m\u001b[0;32m     14\u001b[0m     \u001b[0mprocessed\u001b[0m \u001b[1;33m=\u001b[0m \u001b[0mprocessed\u001b[0m\u001b[1;33m.\u001b[0m\u001b[0mconvert\u001b[0m\u001b[1;33m(\u001b[0m\u001b[0mmode\u001b[0m\u001b[1;33m=\u001b[0m\u001b[1;34m\"RGB\"\u001b[0m\u001b[1;33m)\u001b[0m\u001b[1;33m\u001b[0m\u001b[1;33m\u001b[0m\u001b[0m\n\u001b[0;32m     15\u001b[0m \u001b[1;33m\u001b[0m\u001b[0m\n",
      "\u001b[1;31mKeyboardInterrupt\u001b[0m: "
     ]
    }
   ],
   "source": [
    "root(input_dirs[0])"
   ]
  },
  {
   "cell_type": "code",
   "execution_count": null,
   "id": "db2ee25f",
   "metadata": {},
   "outputs": [],
   "source": []
  }
 ],
 "metadata": {
  "kernelspec": {
   "display_name": "Python 3 (ipykernel)",
   "language": "python",
   "name": "python3"
  },
  "language_info": {
   "codemirror_mode": {
    "name": "ipython",
    "version": 3
   },
   "file_extension": ".py",
   "mimetype": "text/x-python",
   "name": "python",
   "nbconvert_exporter": "python",
   "pygments_lexer": "ipython3",
   "version": "3.7.3"
  }
 },
 "nbformat": 4,
 "nbformat_minor": 5
}
